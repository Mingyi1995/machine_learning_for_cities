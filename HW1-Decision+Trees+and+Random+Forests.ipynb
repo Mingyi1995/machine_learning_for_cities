{
 "cells": [
  {
   "cell_type": "markdown",
   "metadata": {},
   "source": [
    "Total points for this HW: 100.\n",
    "\n",
    "Please note: Copying and pasting other people's work is absolutely prohibited.  Any such cases will be reported to CUSP's education team and severely punished. Discussion is encouraged, and feel free to exchange ideas with your classmates, but please write your own code and do your own work."
   ]
  },
  {
   "cell_type": "markdown",
   "metadata": {
    "collapsed": true
   },
   "source": [
    "### Question 1: Accuracy and interpretability (10 pts)\n",
    "\n",
    "a) Describe a real-world prediction problem using urban data for which _interpretability_ of your models and results is essential, and for which it might be preferable to use decision trees rather than random forests.  Argue why this is the case. (3 pts)"
   ]
  },
  {
   "cell_type": "markdown",
   "metadata": {},
   "source": [
    "### Answer:\n",
    "\n",
    "Imaging that we've already build up a decision tree model about the SAT performances in New York high schools. The dependent value is the avaerage SAT score and the independent value including the amount of students in school, the tution of the school, the neiborghhood, the amount of teachers, and etc. If a school want hire more teachers to improve the avaerage SAT score from 1800 to 1900, we just need to keep other parameters constant, set up the dependent variable as 1900 and calculate the amount of teachers. In a decision tree model, the result comes from only one model and parameters are fixed which is really helpful in making decision on how to increase or decrease the dependent variables."
   ]
  },
  {
   "cell_type": "markdown",
   "metadata": {},
   "source": [
    "b) Describe a real-world prediction problem using urban data for which _accuracy_ is paramount and interpretability may be less important, and for which it might be preferable to use random forests rather than decision trees.  Argue why this is the case. (3 pts)"
   ]
  },
  {
   "cell_type": "markdown",
   "metadata": {},
   "source": [
    "### Answer:\n",
    "\n",
    "In cases we want to predict the result and cares about the accuracy, ensemble methods are better choices. For example, real estate investor need to predict which house will have a higher value in the next 10 years, after building a reliable model, we only need to input the dependent variables, like the distance to central park, the house area, and compare the output. In this case, we don't care about the how the different parameters impact on the result, thus, choose random forest to predict the result more accurate."
   ]
  },
  {
   "cell_type": "markdown",
   "metadata": {},
   "source": [
    "c) Let's imagine that you want to try to get the best of both worlds (accuracy _and_ interpretability).  So you decide to start by learning a random forest classifier.  Describe at least one way of getting some interpretability out of the model by post-processing.  You could either pick a method from the literature (e.g., Domingos's work on combining multiple models or some method of computing variable importance), or come up with your own approach (doesn't have to be ground-breaking, but feel free to be creative!) (4 pts)"
   ]
  },
  {
   "cell_type": "markdown",
   "metadata": {},
   "source": [
    "### Answer:\n",
    "- Feature importance: Even we can not describe how each feature influences the result, but we do know that which feature plays the main role, what is the vital important feature and what is the trivial one. Take a housing price model for example, a random forest model of current housing price and apartment conditions might reveal that people care about the location but do not are about the exterior wall color."
   ]
  },
  {
   "cell_type": "markdown",
   "metadata": {},
   "source": [
    "###  Question 2: Build a decision tree for classification, step by step, following the lecture notes. Note that the dataset has been slightly modified, so you will get a different tree than the one shown in the lecture notes.  (30 points)"
   ]
  },
  {
   "cell_type": "code",
   "execution_count": 10,
   "metadata": {},
   "outputs": [],
   "source": [
    "import pandas as pd\n",
    "import numpy as np\n",
    "import matplotlib.pyplot as plt\n",
    "from graphviz import Digraph\n",
    "%matplotlib inline"
   ]
  },
  {
   "cell_type": "code",
   "execution_count": 11,
   "metadata": {},
   "outputs": [
    {
     "data": {
      "text/html": [
       "<div>\n",
       "<style scoped>\n",
       "    .dataframe tbody tr th:only-of-type {\n",
       "        vertical-align: middle;\n",
       "    }\n",
       "\n",
       "    .dataframe tbody tr th {\n",
       "        vertical-align: top;\n",
       "    }\n",
       "\n",
       "    .dataframe thead th {\n",
       "        text-align: right;\n",
       "    }\n",
       "</style>\n",
       "<table border=\"1\" class=\"dataframe\">\n",
       "  <thead>\n",
       "    <tr style=\"text-align: right;\">\n",
       "      <th></th>\n",
       "      <th>MPG</th>\n",
       "      <th>cylinders</th>\n",
       "      <th>HP</th>\n",
       "      <th>weight</th>\n",
       "    </tr>\n",
       "  </thead>\n",
       "  <tbody>\n",
       "    <tr>\n",
       "      <th>0</th>\n",
       "      <td>good</td>\n",
       "      <td>4</td>\n",
       "      <td>75</td>\n",
       "      <td>light</td>\n",
       "    </tr>\n",
       "    <tr>\n",
       "      <th>1</th>\n",
       "      <td>bad</td>\n",
       "      <td>6</td>\n",
       "      <td>90</td>\n",
       "      <td>medium</td>\n",
       "    </tr>\n",
       "    <tr>\n",
       "      <th>2</th>\n",
       "      <td>bad</td>\n",
       "      <td>4</td>\n",
       "      <td>110</td>\n",
       "      <td>medium</td>\n",
       "    </tr>\n",
       "    <tr>\n",
       "      <th>3</th>\n",
       "      <td>bad</td>\n",
       "      <td>8</td>\n",
       "      <td>175</td>\n",
       "      <td>weighty</td>\n",
       "    </tr>\n",
       "    <tr>\n",
       "      <th>4</th>\n",
       "      <td>bad</td>\n",
       "      <td>6</td>\n",
       "      <td>95</td>\n",
       "      <td>medium</td>\n",
       "    </tr>\n",
       "    <tr>\n",
       "      <th>5</th>\n",
       "      <td>bad</td>\n",
       "      <td>4</td>\n",
       "      <td>94</td>\n",
       "      <td>light</td>\n",
       "    </tr>\n",
       "    <tr>\n",
       "      <th>6</th>\n",
       "      <td>bad</td>\n",
       "      <td>4</td>\n",
       "      <td>95</td>\n",
       "      <td>light</td>\n",
       "    </tr>\n",
       "    <tr>\n",
       "      <th>7</th>\n",
       "      <td>bad</td>\n",
       "      <td>8</td>\n",
       "      <td>139</td>\n",
       "      <td>weighty</td>\n",
       "    </tr>\n",
       "    <tr>\n",
       "      <th>8</th>\n",
       "      <td>bad</td>\n",
       "      <td>8</td>\n",
       "      <td>190</td>\n",
       "      <td>weighty</td>\n",
       "    </tr>\n",
       "    <tr>\n",
       "      <th>9</th>\n",
       "      <td>bad</td>\n",
       "      <td>8</td>\n",
       "      <td>145</td>\n",
       "      <td>weighty</td>\n",
       "    </tr>\n",
       "    <tr>\n",
       "      <th>10</th>\n",
       "      <td>bad</td>\n",
       "      <td>6</td>\n",
       "      <td>100</td>\n",
       "      <td>medium</td>\n",
       "    </tr>\n",
       "    <tr>\n",
       "      <th>11</th>\n",
       "      <td>good</td>\n",
       "      <td>4</td>\n",
       "      <td>92</td>\n",
       "      <td>medium</td>\n",
       "    </tr>\n",
       "    <tr>\n",
       "      <th>12</th>\n",
       "      <td>bad</td>\n",
       "      <td>6</td>\n",
       "      <td>100</td>\n",
       "      <td>weighty</td>\n",
       "    </tr>\n",
       "    <tr>\n",
       "      <th>13</th>\n",
       "      <td>bad</td>\n",
       "      <td>8</td>\n",
       "      <td>170</td>\n",
       "      <td>weighty</td>\n",
       "    </tr>\n",
       "    <tr>\n",
       "      <th>14</th>\n",
       "      <td>good</td>\n",
       "      <td>4</td>\n",
       "      <td>89</td>\n",
       "      <td>medium</td>\n",
       "    </tr>\n",
       "    <tr>\n",
       "      <th>15</th>\n",
       "      <td>good</td>\n",
       "      <td>4</td>\n",
       "      <td>65</td>\n",
       "      <td>light</td>\n",
       "    </tr>\n",
       "    <tr>\n",
       "      <th>16</th>\n",
       "      <td>bad</td>\n",
       "      <td>6</td>\n",
       "      <td>85</td>\n",
       "      <td>medium</td>\n",
       "    </tr>\n",
       "    <tr>\n",
       "      <th>17</th>\n",
       "      <td>good</td>\n",
       "      <td>4</td>\n",
       "      <td>81</td>\n",
       "      <td>light</td>\n",
       "    </tr>\n",
       "    <tr>\n",
       "      <th>18</th>\n",
       "      <td>bad</td>\n",
       "      <td>6</td>\n",
       "      <td>95</td>\n",
       "      <td>medium</td>\n",
       "    </tr>\n",
       "    <tr>\n",
       "      <th>19</th>\n",
       "      <td>bad</td>\n",
       "      <td>4</td>\n",
       "      <td>93</td>\n",
       "      <td>light</td>\n",
       "    </tr>\n",
       "  </tbody>\n",
       "</table>\n",
       "</div>"
      ],
      "text/plain": [
       "     MPG  cylinders   HP   weight\n",
       "0   good          4   75    light\n",
       "1    bad          6   90   medium\n",
       "2    bad          4  110   medium\n",
       "3    bad          8  175  weighty\n",
       "4    bad          6   95   medium\n",
       "5    bad          4   94    light\n",
       "6    bad          4   95    light\n",
       "7    bad          8  139  weighty\n",
       "8    bad          8  190  weighty\n",
       "9    bad          8  145  weighty\n",
       "10   bad          6  100   medium\n",
       "11  good          4   92   medium\n",
       "12   bad          6  100  weighty\n",
       "13   bad          8  170  weighty\n",
       "14  good          4   89   medium\n",
       "15  good          4   65    light\n",
       "16   bad          6   85   medium\n",
       "17  good          4   81    light\n",
       "18   bad          6   95   medium\n",
       "19   bad          4   93    light"
      ]
     },
     "execution_count": 11,
     "metadata": {},
     "output_type": "execute_result"
    }
   ],
   "source": [
    "from io import StringIO\n",
    "thefile = StringIO('MPG,cylinders,HP,weight\\ngood,4,75,light\\nbad,6,90,medium\\nbad,4,110,medium\\nbad,8,175,weighty\\nbad,6,95,medium\\nbad,4,94,light\\nbad,4,95,light\\nbad,8,139,weighty\\nbad,8,190,weighty\\nbad,8,145,weighty\\nbad,6,100,medium\\ngood,4,92,medium\\nbad,6,100,weighty\\nbad,8,170,weighty\\ngood,4,89,medium\\ngood,4,65,light\\nbad,6,85,medium\\ngood,4,81,light\\nbad,6,95,medium\\nbad,4,93,light')\n",
    "df = pd.read_csv(thefile)\n",
    "df"
   ]
  },
  {
   "cell_type": "markdown",
   "metadata": {},
   "source": [
    "### Please use numpy and pandas to do the computation for parts a) through f).  Do not use an existing decision tree implementation like sklearn for this question."
   ]
  },
  {
   "cell_type": "markdown",
   "metadata": {},
   "source": [
    "a) Start with the entire dataset and find the most common MPG value. (2 pts)"
   ]
  },
  {
   "cell_type": "code",
   "execution_count": 14,
   "metadata": {},
   "outputs": [
    {
     "data": {
      "text/plain": [
       "bad     15\n",
       "good     5\n",
       "Name: MPG, dtype: int64"
      ]
     },
     "execution_count": 14,
     "metadata": {},
     "output_type": "execute_result"
    }
   ],
   "source": [
    "# your code here\n",
    "df.MPG.value_counts()"
   ]
  },
  {
   "cell_type": "code",
   "execution_count": 15,
   "metadata": {},
   "outputs": [],
   "source": [
    "def InformationGain(goodY,badY,goodN,badN):\n",
    "    def F(X,Y):\n",
    "        val1 = X*np.log2(1.*(X+Y)/X) if X>0 else 0\n",
    "        val2 = Y*np.log2(1.*(X+Y)/Y) if Y>0 else 0\n",
    "        return val1+val2\n",
    "    return (F(goodY+goodN,badY+badN)-F(goodY,badY)-F(goodN,badN)) / (goodY+goodN+badY+badN)"
   ]
  },
  {
   "cell_type": "markdown",
   "metadata": {},
   "source": [
    "b) Enumerate all the possible binary questions you could ask for each discrete-valued variable.  For each such split, compute the numbers of \"good\" and \"bad\" MPG vehicles in each of the two child nodes, and compute the information gain using the provided function above. (5 pts)"
   ]
  },
  {
   "cell_type": "code",
   "execution_count": 163,
   "metadata": {},
   "outputs": [],
   "source": [
    "# your code here\n",
    "def split_discret(feature, predict, dataset):\n",
    "    info_gain = {}\n",
    "    print('split at', feature)\n",
    "    for i in range(len(dataset[feature].unique())):\n",
    "        split = dataset[feature].unique()[i]\n",
    "        good = list(dataset[dataset[feature]==split][predict]=='good')\n",
    "        bad = list(dataset[dataset[feature]!=split][predict]=='good')\n",
    "        if good.count(True) >= bad.count(True):\n",
    "            pt,pf,nt,nf = good.count(True),good.count(False), bad.count(True), bad.count(False)\n",
    "        else: \n",
    "            pt,pf,nt,nf = bad.count(True),bad.count(False), good.count(True), good.count(False)\n",
    "        info_gain[split] = InformationGain(pt,pf,nt,nf)\n",
    "        print(feature,'is',dataset[feature].unique()[i],'or not, the information gain is:',InformationGain(pt,pf,nt,nf))\n",
    "    return info_gain\n"
   ]
  },
  {
   "cell_type": "code",
   "execution_count": 164,
   "metadata": {},
   "outputs": [
    {
     "name": "stdout",
     "output_type": "stream",
     "text": [
      "split at weight\n",
      "weight is light or not, the information gain is: 0.09710717945150363\n",
      "weight is medium or not, the information gain is: 4.4408920985006264e-17\n",
      "weight is weighty or not, the information gain is: 0.15307795338969116\n"
     ]
    },
    {
     "data": {
      "text/plain": [
       "{'light': 0.09710717945150363,\n",
       " 'medium': 4.4408920985006264e-17,\n",
       " 'weighty': 0.15307795338969116}"
      ]
     },
     "execution_count": 164,
     "metadata": {},
     "output_type": "execute_result"
    }
   ],
   "source": [
    "split_discret('weight', 'MPG', df)"
   ]
  },
  {
   "cell_type": "markdown",
   "metadata": {},
   "source": [
    "c) Enumerate all the possible binary questions you could ask for the real-valued variable HP.  For each such split, compute the numbers of \"good\" and \"bad\" MPG vehicles in each of the two child nodes, and compute the information gain using the provided function above. (5 pts) \n",
    "\n",
    "NOTE: if you'd like, you can just use all midpoints between consecutive values of the sorted HP attribute.  You are not required to exclude provably suboptimal questions like we did in the lecture."
   ]
  },
  {
   "cell_type": "code",
   "execution_count": 166,
   "metadata": {},
   "outputs": [],
   "source": [
    "# your code here\n",
    "def split_number(feature, predict, dataset):\n",
    "    print('split at', feature)\n",
    "    info_gain = {}\n",
    "    for split in sorted(dataset[feature].unique()):\n",
    "        good = list(dataset[dataset[feature]<=split][predict]=='good')\n",
    "        bad = list(dataset[dataset[feature]>split][predict]=='good')\n",
    "        if good.count(True) >= bad.count(True):\n",
    "            pt,pf,nt,nf = good.count(True),good.count(False), bad.count(True), bad.count(False)\n",
    "        else: \n",
    "            pt,pf,nt,nf = bad.count(True),bad.count(False), good.count(True), good.count(False)\n",
    "        info_gain[str(split)]=InformationGain(pt,pf,nt,nf)\n",
    "        print(feature,'is larger than',split,'or not, the information gain is:',InformationGain(pt,pf,nt,nf))\n",
    "    return info_gain\n",
    "        "
   ]
  },
  {
   "cell_type": "code",
   "execution_count": 167,
   "metadata": {},
   "outputs": [
    {
     "name": "stdout",
     "output_type": "stream",
     "text": [
      "split at HP\n",
      "HP is larger than 65 or not, the information gain is: 0.10591493339411553\n",
      "HP is larger than 75 or not, the information gain is: 0.22625794497561413\n",
      "HP is larger than 81 or not, the information gain is: 0.36710265610273324\n",
      "HP is larger than 85 or not, the information gain is: 0.21417094500762923\n",
      "HP is larger than 89 or not, the information gain is: 0.3657765994712262\n",
      "HP is larger than 90 or not, the information gain is: 0.2759267455941731\n",
      "HP is larger than 92 or not, the information gain is: 0.5091859254608121\n",
      "HP is larger than 93 or not, the information gain is: 0.4295045232891469\n",
      "HP is larger than 94 or not, the information gain is: 0.3652938975319328\n",
      "HP is larger than 95 or not, the information gain is: 0.22335687046844122\n",
      "HP is larger than 100 or not, the information gain is: 0.15307795338969116\n",
      "HP is larger than 110 or not, the information gain is: 0.1225562489182657\n",
      "HP is larger than 139 or not, the information gain is: 0.09444753843148686\n",
      "HP is larger than 145 or not, the information gain is: 0.06839423355087862\n",
      "HP is larger than 170 or not, the information gain is: 0.044113463674602206\n",
      "HP is larger than 175 or not, the information gain is: 0.021377455849890127\n",
      "HP is larger than 190 or not, the information gain is: 0.0\n",
      "split at cylinders\n",
      "cylinders is larger than 4 or not, the information gain is: 0.3652938975319328\n",
      "cylinders is larger than 6 or not, the information gain is: 0.1225562489182657\n",
      "cylinders is larger than 8 or not, the information gain is: 0.0\n"
     ]
    }
   ],
   "source": [
    "hp_gain = split_number('HP', 'MPG', df)\n",
    "cylinders_gain = split_number('cylinders', 'MPG', df)"
   ]
  },
  {
   "cell_type": "markdown",
   "metadata": {},
   "source": [
    "d) Based on your results for parts b and c, what is the optimal binary split of the data?  Of the two child nodes created by this split, which (if any) would require further partitioning? (4 pts)"
   ]
  },
  {
   "cell_type": "code",
   "execution_count": 220,
   "metadata": {},
   "outputs": [],
   "source": [
    "# higher infomation gain means better split\n",
    "def best_split(feature, dataset):\n",
    "    info_gain={}\n",
    "    for split in sorted(dataset[feature].unique()):\n",
    "        if type(dataset[feature][0]) is str:\n",
    "            good = list(dataset[dataset[feature]==split]['MPG']=='good')\n",
    "            bad = list(dataset[dataset[feature]!=split]['MPG']=='good')\n",
    "        elif type(dataset[feature][0]) is np.int64:\n",
    "            good = list(dataset[dataset[feature]<=split]['MPG']=='good')\n",
    "            bad = list(dataset[dataset[feature]>split]['MPG']=='good')\n",
    "        if good.count(True) >= bad.count(True):\n",
    "            pt,pf,nt,nf = good.count(True),good.count(False), bad.count(True), bad.count(False)\n",
    "        else: \n",
    "            pt,pf,nt,nf = bad.count(True),bad.count(False), good.count(True), good.count(False)\n",
    "        info_gain[split] = InformationGain(pt,pf,nt,nf)\n",
    "    return (max(info_gain, key=info_gain.get), info_gain[max(info_gain, key=info_gain.get)])"
   ]
  },
  {
   "cell_type": "code",
   "execution_count": 221,
   "metadata": {},
   "outputs": [
    {
     "name": "stdout",
     "output_type": "stream",
     "text": [
      "(92, 0.5091859254608121) (4, 0.3652938975319328) ('weighty', 0.15307795338969116)\n"
     ]
    }
   ],
   "source": [
    "HP_gain_0 =  best_split('HP', df)\n",
    "Cylinders_gain_0 = best_split('cylinders',df)\n",
    "Weight_gain_0 = best_split('weight', df)\n",
    "print(HP_gain_0,Cylinders_gain_0, Weight_gain_0)"
   ]
  },
  {
   "cell_type": "code",
   "execution_count": 160,
   "metadata": {},
   "outputs": [
    {
     "name": "stdout",
     "output_type": "stream",
     "text": [
      "When HP > 92, the amount of different MPG \n",
      " bad    13\n",
      "Name: MPG, dtype: int64\n",
      "When HP <= 92, the amount of different MPG \n",
      " good    5\n",
      "bad     2\n",
      "Name: MPG, dtype: int64\n"
     ]
    }
   ],
   "source": [
    "print('When HP > 92, the amount of different MPG \\n', df[df['HP']>92]['MPG'].value_counts())\n",
    "print('When HP <= 92, the amount of different MPG \\n', df[df['HP']<=92]['MPG'].value_counts())"
   ]
  },
  {
   "cell_type": "markdown",
   "metadata": {},
   "source": [
    "### According to the result, the best split at the first node is split the data set into HP > 92 or not. When HP > 92, all the MPG is bad, when HP <= 92, the MPF can be both good and bad. Therefore, the child node of the first condition does not need to be split again, and the second one needs."
   ]
  },
  {
   "cell_type": "markdown",
   "metadata": {},
   "source": [
    "e) Repeat parts a through d until all training data points are perfectly classified by the resulting tree. (6 pts)"
   ]
  },
  {
   "cell_type": "code",
   "execution_count": 122,
   "metadata": {},
   "outputs": [],
   "source": [
    "def decisiontree(dataset, depth, split_record, max_depth=10):\n",
    "    features = [i for i in list(dataset.columns) if i!='MPG']\n",
    "    if depth <= max_depth:\n",
    "        # first node\n",
    "        if len(dataset['MPG'].unique()) > 1:\n",
    "            gain = []\n",
    "            for feature in features:\n",
    "                info_gain = {}\n",
    "                for split in sorted(dataset[feature].unique()):\n",
    "                    if type(dataset[feature][0]) is str:\n",
    "                        good = list(dataset[dataset[feature]==split]['MPG']=='good')\n",
    "                        bad = list(dataset[dataset[feature]!=split]['MPG']=='good')\n",
    "                    elif type(dataset[feature][0]) is np.int64:\n",
    "                        good = list(dataset[dataset[feature]<=split]['MPG']=='good')\n",
    "                        bad = list(dataset[dataset[feature]>split]['MPG']=='good')\n",
    "#                     if good.count(True) >= bad.count(True):\n",
    "                    pt,pf,nt,nf = good.count(True),good.count(False), bad.count(True), bad.count(False)\n",
    "#                     else: \n",
    "#                         pt,pf,nt,nf = bad.count(True),bad.count(False), good.count(True), good.count(False)\n",
    "                    info_gain[str(split)]=InformationGain(pt,pf,nt,nf)\n",
    "                feature_info_gain = [feature, max(info_gain, key=info_gain.get), info_gain[max(info_gain, key=info_gain.get)]]\n",
    "                gain.append(feature_info_gain)\n",
    "            gain = np.array(gain)\n",
    "            split_feature = gain[np.argmax(gain[:,2])][0]\n",
    "            split_point = gain[np.argmax(gain[:,2])][1]\n",
    "            split_record.append([split_feature, split_point])\n",
    "            try:\n",
    "                split_point = float(split_point)\n",
    "                dataset_t = dataset[dataset[split_feature]<=split_point]\n",
    "                dataset_f = dataset[dataset[split_feature]>split_point]\n",
    "            except ValueError:\n",
    "                dataset_t = dataset[dataset[split_feature]==split_point]\n",
    "                dataset_f = dataset[dataset[split_feature]!=split_point]\n",
    "            #next split or not               \n",
    "            if len(dataset_t.loc[:, dataset_t.columns!='MPG'].drop_duplicates()) > 1 and len(dataset_t['MPG'].unique()) > 1:\n",
    "                if len(dataset_f.loc[:, dataset_f.columns!='MPG'].drop_duplicates()) > 1 and len(dataset_f['MPG'].unique()) > 1:\n",
    "                    print('split at',split_feature,'<= or ==',split_point)\n",
    "                    return (decisiontree(dataset_t, depth+1, split_record, max_depth=max_depth),decisiontree(dataset_f, depth+1, split_record, max_depth=max_depth))\n",
    "                else:\n",
    "                    print('split at',split_feature,'<= or ==',split_point,',stop at step',depth,'when',split_feature,'> or !=', split_point)\n",
    "                    return decisiontree(dataset_t, depth+1, split_record, max_depth=max_depth)\n",
    "            else: \n",
    "                if len(dataset_f.loc[:, dataset_f.columns!='MPG'].drop_duplicates()) > 1 and len(dataset_f['MPG'].unique()) > 1:\n",
    "                    print('split at',split_feature,'<= or ==',split_point)\n",
    "                else:print('split at',split_feature,'<= or ==',split_point,',stop at step',depth,'when',split_feature,'> or !=', split_point)\n",
    "                    \n",
    "                \n",
    "    return split_record\n"
   ]
  },
  {
   "cell_type": "code",
   "execution_count": 123,
   "metadata": {},
   "outputs": [
    {
     "name": "stdout",
     "output_type": "stream",
     "text": [
      "split at HP <= or == 92.0 ,stop at step 1 when HP > or != 92.0\n",
      "split at cylinders <= or == 4.0 ,stop at step 2 when cylinders > or != 4.0\n"
     ]
    },
    {
     "data": {
      "text/plain": [
       "[['HP', '92'], ['cylinders', '4']]"
      ]
     },
     "execution_count": 123,
     "metadata": {},
     "output_type": "execute_result"
    }
   ],
   "source": [
    "split_record = decisiontree(df, 1, [],max_depth=10)\n",
    "split_record"
   ]
  },
  {
   "cell_type": "markdown",
   "metadata": {},
   "source": [
    "f) Draw or show the final decision tree in a format of your choice.  The decision to make at each step and the predicted value at each leaf node must be clear. (4 pts)"
   ]
  },
  {
   "cell_type": "code",
   "execution_count": 158,
   "metadata": {},
   "outputs": [
    {
     "data": {
      "text/html": [
       "<div>\n",
       "<style scoped>\n",
       "    .dataframe tbody tr th:only-of-type {\n",
       "        vertical-align: middle;\n",
       "    }\n",
       "\n",
       "    .dataframe tbody tr th {\n",
       "        vertical-align: top;\n",
       "    }\n",
       "\n",
       "    .dataframe thead th {\n",
       "        text-align: right;\n",
       "    }\n",
       "</style>\n",
       "<table border=\"1\" class=\"dataframe\">\n",
       "  <thead>\n",
       "    <tr style=\"text-align: right;\">\n",
       "      <th></th>\n",
       "      <th>MPG</th>\n",
       "      <th>cylinders</th>\n",
       "      <th>HP</th>\n",
       "      <th>weight</th>\n",
       "    </tr>\n",
       "  </thead>\n",
       "  <tbody>\n",
       "    <tr>\n",
       "      <th>1</th>\n",
       "      <td>bad</td>\n",
       "      <td>6</td>\n",
       "      <td>90</td>\n",
       "      <td>medium</td>\n",
       "    </tr>\n",
       "    <tr>\n",
       "      <th>16</th>\n",
       "      <td>bad</td>\n",
       "      <td>6</td>\n",
       "      <td>85</td>\n",
       "      <td>medium</td>\n",
       "    </tr>\n",
       "  </tbody>\n",
       "</table>\n",
       "</div>"
      ],
      "text/plain": [
       "    MPG  cylinders  HP  weight\n",
       "1   bad          6  90  medium\n",
       "16  bad          6  85  medium"
      ]
     },
     "execution_count": 158,
     "metadata": {},
     "output_type": "execute_result"
    }
   ],
   "source": [
    "df[(df['HP']<92.5)&(df['cylinders']>4)]"
   ]
  },
  {
   "cell_type": "code",
   "execution_count": 161,
   "metadata": {},
   "outputs": [
    {
     "data": {
      "image/svg+xml": [
       "<?xml version=\"1.0\" encoding=\"UTF-8\" standalone=\"no\"?>\n",
       "<!DOCTYPE svg PUBLIC \"-//W3C//DTD SVG 1.1//EN\"\n",
       " \"http://www.w3.org/Graphics/SVG/1.1/DTD/svg11.dtd\">\n",
       "<!-- Generated by graphviz version 2.40.1 (20161225.0304)\n",
       " -->\n",
       "<!-- Title: %3 Pages: 1 -->\n",
       "<svg width=\"354pt\" height=\"334pt\"\n",
       " viewBox=\"0.00 0.00 353.94 334.43\" xmlns=\"http://www.w3.org/2000/svg\" xmlns:xlink=\"http://www.w3.org/1999/xlink\">\n",
       "<g id=\"graph0\" class=\"graph\" transform=\"scale(1 1) rotate(0) translate(4 330.4335)\">\n",
       "<title>%3</title>\n",
       "<polygon fill=\"#ffffff\" stroke=\"transparent\" points=\"-4,4 -4,-330.4335 349.9447,-330.4335 349.9447,4 -4,4\"/>\n",
       "<!-- g -->\n",
       "<g id=\"node1\" class=\"node\">\n",
       "<title>g</title>\n",
       "<ellipse fill=\"none\" stroke=\"#000000\" cx=\"237.5183\" cy=\"-299.5635\" rx=\"105.218\" ry=\"26.7407\"/>\n",
       "<text text-anchor=\"middle\" x=\"237.5183\" y=\"-303.3635\" font-family=\"Times,serif\" font-size=\"14.00\" fill=\"#000000\">dataset, sample size=20</text>\n",
       "<text text-anchor=\"middle\" x=\"237.5183\" y=\"-288.3635\" font-family=\"Times,serif\" font-size=\"14.00\" fill=\"#000000\">class=HP</text>\n",
       "</g>\n",
       "<!-- HP&lt;=92\n",
       "size=7\n",
       "class=Cylinder -->\n",
       "<g id=\"node2\" class=\"node\">\n",
       "<title>HP&lt;=92\n",
       "size=7\n",
       "class=Cylinder</title>\n",
       "<ellipse fill=\"none\" stroke=\"#000000\" cx=\"171.5183\" cy=\"-199.2168\" rx=\"71.3357\" ry=\"37.4533\"/>\n",
       "<text text-anchor=\"middle\" x=\"171.5183\" y=\"-210.5168\" font-family=\"Times,serif\" font-size=\"14.00\" fill=\"#000000\">HP&lt;=92</text>\n",
       "<text text-anchor=\"middle\" x=\"171.5183\" y=\"-195.5168\" font-family=\"Times,serif\" font-size=\"14.00\" fill=\"#000000\">size=7</text>\n",
       "<text text-anchor=\"middle\" x=\"171.5183\" y=\"-180.5168\" font-family=\"Times,serif\" font-size=\"14.00\" fill=\"#000000\">class=Cylinder</text>\n",
       "</g>\n",
       "<!-- g&#45;&gt;HP&lt;=92\n",
       "size=7\n",
       "class=Cylinder -->\n",
       "<g id=\"edge1\" class=\"edge\">\n",
       "<title>g&#45;&gt;HP&lt;=92\n",
       "size=7\n",
       "class=Cylinder</title>\n",
       "<path fill=\"none\" stroke=\"#000000\" d=\"M220.0048,-272.9359C213.9781,-263.7728 207.0601,-253.2547 200.3729,-243.0875\"/>\n",
       "<polygon fill=\"#000000\" stroke=\"#000000\" points=\"203.254,-241.0985 194.8346,-234.667 197.4056,-244.9451 203.254,-241.0985\"/>\n",
       "</g>\n",
       "<!-- HP&gt;92\n",
       "size=13 -->\n",
       "<g id=\"node3\" class=\"node\">\n",
       "<title>HP&gt;92\n",
       "size=13</title>\n",
       "<ellipse fill=\"none\" stroke=\"#000000\" cx=\"303.5183\" cy=\"-199.2168\" rx=\"42.3529\" ry=\"26.7407\"/>\n",
       "<text text-anchor=\"middle\" x=\"303.5183\" y=\"-203.0168\" font-family=\"Times,serif\" font-size=\"14.00\" fill=\"#000000\">HP&gt;92</text>\n",
       "<text text-anchor=\"middle\" x=\"303.5183\" y=\"-188.0168\" font-family=\"Times,serif\" font-size=\"14.00\" fill=\"#000000\">size=13</text>\n",
       "</g>\n",
       "<!-- g&#45;&gt;HP&gt;92\n",
       "size=13 -->\n",
       "<g id=\"edge2\" class=\"edge\">\n",
       "<title>g&#45;&gt;HP&gt;92\n",
       "size=13</title>\n",
       "<path fill=\"none\" stroke=\"#000000\" d=\"M255.0318,-272.9359C263.0993,-260.6701 272.7637,-245.9763 281.3339,-232.9461\"/>\n",
       "<polygon fill=\"#000000\" stroke=\"#000000\" points=\"284.4882,-234.5195 287.0592,-224.2413 278.6398,-230.6728 284.4882,-234.5195\"/>\n",
       "</g>\n",
       "<!-- Cylingder&lt;=4\n",
       "size=5 -->\n",
       "<g id=\"node5\" class=\"node\">\n",
       "<title>Cylingder&lt;=4\n",
       "size=5</title>\n",
       "<ellipse fill=\"none\" stroke=\"#000000\" cx=\"208.5183\" cy=\"-98.8701\" rx=\"67.3507\" ry=\"26.7407\"/>\n",
       "<text text-anchor=\"middle\" x=\"208.5183\" y=\"-102.6701\" font-family=\"Times,serif\" font-size=\"14.00\" fill=\"#000000\">Cylingder&lt;=4</text>\n",
       "<text text-anchor=\"middle\" x=\"208.5183\" y=\"-87.6701\" font-family=\"Times,serif\" font-size=\"14.00\" fill=\"#000000\">size=5</text>\n",
       "</g>\n",
       "<!-- HP&lt;=92\n",
       "size=7\n",
       "class=Cylinder&#45;&gt;Cylingder&lt;=4\n",
       "size=5 -->\n",
       "<g id=\"edge4\" class=\"edge\">\n",
       "<title>HP&lt;=92\n",
       "size=7\n",
       "class=Cylinder&#45;&gt;Cylingder&lt;=4\n",
       "size=5</title>\n",
       "<path fill=\"none\" stroke=\"#000000\" d=\"M185.0856,-162.4212C188.3524,-153.5615 191.8405,-144.1015 195.1004,-135.2605\"/>\n",
       "<polygon fill=\"#000000\" stroke=\"#000000\" points=\"198.4842,-136.2001 198.6599,-125.6067 191.9164,-133.7783 198.4842,-136.2001\"/>\n",
       "</g>\n",
       "<!-- Cylingder&gt;4\n",
       "size=2 -->\n",
       "<g id=\"node6\" class=\"node\">\n",
       "<title>Cylingder&gt;4\n",
       "size=2</title>\n",
       "<ellipse fill=\"none\" stroke=\"#000000\" cx=\"61.5183\" cy=\"-98.8701\" rx=\"61.5366\" ry=\"26.7407\"/>\n",
       "<text text-anchor=\"middle\" x=\"61.5183\" y=\"-102.6701\" font-family=\"Times,serif\" font-size=\"14.00\" fill=\"#000000\">Cylingder&gt;4</text>\n",
       "<text text-anchor=\"middle\" x=\"61.5183\" y=\"-87.6701\" font-family=\"Times,serif\" font-size=\"14.00\" fill=\"#000000\">size=2</text>\n",
       "</g>\n",
       "<!-- HP&lt;=92\n",
       "size=7\n",
       "class=Cylinder&#45;&gt;Cylingder&gt;4\n",
       "size=2 -->\n",
       "<g id=\"edge6\" class=\"edge\">\n",
       "<title>HP&lt;=92\n",
       "size=7\n",
       "class=Cylinder&#45;&gt;Cylingder&gt;4\n",
       "size=2</title>\n",
       "<path fill=\"none\" stroke=\"#000000\" d=\"M135.8044,-166.6371C123.0246,-154.9787 108.654,-141.8693 95.9818,-130.3092\"/>\n",
       "<polygon fill=\"#000000\" stroke=\"#000000\" points=\"98.0871,-127.4922 88.3405,-123.3384 93.3695,-132.6636 98.0871,-127.4922\"/>\n",
       "</g>\n",
       "<!-- MPG=good -->\n",
       "<g id=\"node4\" class=\"node\">\n",
       "<title>MPG=good</title>\n",
       "<ellipse fill=\"none\" stroke=\"#000000\" cx=\"255.5183\" cy=\"-18\" rx=\"53.8905\" ry=\"18\"/>\n",
       "<text text-anchor=\"middle\" x=\"255.5183\" y=\"-14.3\" font-family=\"Times,serif\" font-size=\"14.00\" fill=\"#000000\">MPG=good</text>\n",
       "</g>\n",
       "<!-- HP&gt;92\n",
       "size=13&#45;&gt;MPG=good -->\n",
       "<g id=\"edge3\" class=\"edge\">\n",
       "<title>HP&gt;92\n",
       "size=13&#45;&gt;MPG=good</title>\n",
       "<path fill=\"none\" stroke=\"#000000\" d=\"M302.1845,-172.283C300.2674,-146.0973 295.6355,-105.4861 284.5183,-72 281.4158,-62.6549 276.7673,-53.0105 272.0958,-44.5041\"/>\n",
       "<polygon fill=\"#000000\" stroke=\"#000000\" points=\"275.1054,-42.7165 267.0898,-35.7883 269.0354,-46.203 275.1054,-42.7165\"/>\n",
       "</g>\n",
       "<!-- Cylingder&lt;=4\n",
       "size=5&#45;&gt;MPG=good -->\n",
       "<g id=\"edge5\" class=\"edge\">\n",
       "<title>Cylingder&lt;=4\n",
       "size=5&#45;&gt;MPG=good</title>\n",
       "<path fill=\"none\" stroke=\"#000000\" d=\"M223.9078,-72.3902C229.074,-63.5011 234.8361,-53.5865 240.0112,-44.682\"/>\n",
       "<polygon fill=\"#000000\" stroke=\"#000000\" points=\"243.1433,-46.2583 245.1421,-35.8537 237.0912,-42.7409 243.1433,-46.2583\"/>\n",
       "</g>\n",
       "<!-- MPG=bad -->\n",
       "<g id=\"node7\" class=\"node\">\n",
       "<title>MPG=bad</title>\n",
       "<ellipse fill=\"none\" stroke=\"#000000\" cx=\"61.5183\" cy=\"-18\" rx=\"48.9926\" ry=\"18\"/>\n",
       "<text text-anchor=\"middle\" x=\"61.5183\" y=\"-14.3\" font-family=\"Times,serif\" font-size=\"14.00\" fill=\"#000000\">MPG=bad</text>\n",
       "</g>\n",
       "<!-- Cylingder&gt;4\n",
       "size=2&#45;&gt;MPG=bad -->\n",
       "<g id=\"edge7\" class=\"edge\">\n",
       "<title>Cylingder&gt;4\n",
       "size=2&#45;&gt;MPG=bad</title>\n",
       "<path fill=\"none\" stroke=\"#000000\" d=\"M61.5183,-71.9415C61.5183,-63.6709 61.5183,-54.5487 61.5183,-46.1957\"/>\n",
       "<polygon fill=\"#000000\" stroke=\"#000000\" points=\"65.0184,-46.1488 61.5183,-36.1488 58.0184,-46.1489 65.0184,-46.1488\"/>\n",
       "</g>\n",
       "</g>\n",
       "</svg>\n"
      ],
      "text/plain": [
       "<graphviz.dot.Digraph at 0x120c63cc0>"
      ]
     },
     "execution_count": 161,
     "metadata": {},
     "output_type": "execute_result"
    }
   ],
   "source": [
    "dot=Digraph()\n",
    "dot.node(\"g\",\"dataset, sample size=20\\nclass=HP\")\n",
    "dot.edge(\"g\",\"HP<=92\\nsize=7\\nclass=Cylinder\")\n",
    "dot.edge(\"g\",\"HP>92\\nsize=13\")\n",
    "dot.edge(\"HP>92\\nsize=13\",'MPG=good')\n",
    "dot.edge(\"HP<=92\\nsize=7\\nclass=Cylinder\",'Cylingder<=4\\nsize=5')\n",
    "dot.edge('Cylingder<=4\\nsize=5','MPG=good')\n",
    "dot.edge(\"HP<=92\\nsize=7\\nclass=Cylinder\",'Cylingder>4\\nsize=2')\n",
    "dot.edge('Cylingder>4\\nsize=2','MPG=bad')\n",
    "dot"
   ]
  },
  {
   "cell_type": "markdown",
   "metadata": {},
   "source": [
    "g) Classify each of the following four vehicles as having \"good\" or \"bad\" fuel efficiency (miles per gallon).  Do this by hand using the tree structure learned in part f. (4 pts)\n",
    "\n",
    "?,8,70,light\n",
    "\n",
    "?,6,113,medium\n",
    "\n",
    "?,4,83,weighty\n",
    "\n",
    "?,4,95,weighty\n"
   ]
  },
  {
   "cell_type": "code",
   "execution_count": 141,
   "metadata": {},
   "outputs": [
    {
     "data": {
      "text/html": [
       "<div>\n",
       "<style scoped>\n",
       "    .dataframe tbody tr th:only-of-type {\n",
       "        vertical-align: middle;\n",
       "    }\n",
       "\n",
       "    .dataframe tbody tr th {\n",
       "        vertical-align: top;\n",
       "    }\n",
       "\n",
       "    .dataframe thead th {\n",
       "        text-align: right;\n",
       "    }\n",
       "</style>\n",
       "<table border=\"1\" class=\"dataframe\">\n",
       "  <thead>\n",
       "    <tr style=\"text-align: right;\">\n",
       "      <th></th>\n",
       "      <th>cylinders</th>\n",
       "      <th>HP</th>\n",
       "      <th>weight</th>\n",
       "      <th>MPG</th>\n",
       "    </tr>\n",
       "  </thead>\n",
       "  <tbody>\n",
       "    <tr>\n",
       "      <th>0</th>\n",
       "      <td>8</td>\n",
       "      <td>70</td>\n",
       "      <td>light</td>\n",
       "      <td>bad</td>\n",
       "    </tr>\n",
       "    <tr>\n",
       "      <th>1</th>\n",
       "      <td>6</td>\n",
       "      <td>113</td>\n",
       "      <td>medium</td>\n",
       "      <td>good</td>\n",
       "    </tr>\n",
       "    <tr>\n",
       "      <th>2</th>\n",
       "      <td>4</td>\n",
       "      <td>83</td>\n",
       "      <td>weighty</td>\n",
       "      <td>good</td>\n",
       "    </tr>\n",
       "    <tr>\n",
       "      <th>3</th>\n",
       "      <td>4</td>\n",
       "      <td>95</td>\n",
       "      <td>weighty</td>\n",
       "      <td>good</td>\n",
       "    </tr>\n",
       "  </tbody>\n",
       "</table>\n",
       "</div>"
      ],
      "text/plain": [
       "   cylinders   HP   weight   MPG\n",
       "0          8   70    light   bad\n",
       "1          6  113   medium  good\n",
       "2          4   83  weighty  good\n",
       "3          4   95  weighty  good"
      ]
     },
     "execution_count": 141,
     "metadata": {},
     "output_type": "execute_result"
    }
   ],
   "source": [
    "testfile = StringIO('cylinders,HP,weight\\n8,70,light\\n6,113,medium\\n4,83,weighty\\n4,95,weighty')\n",
    "test = pd.read_csv(testfile)\n",
    "mpg = []\n",
    "for i in range(len(test)):\n",
    "    datapoint = test.loc[i]\n",
    "    if datapoint['HP'] <= 92:\n",
    "        if datapoint['cylinders']>4:\n",
    "            mpg.append('bad')\n",
    "        else: mpg.append('good')\n",
    "    else: mpg.append('good')\n",
    "test['MPG']=mpg\n",
    "test"
   ]
  },
  {
   "cell_type": "markdown",
   "metadata": {},
   "source": [
    "### Question 3, Predicting burden of disease （40 pts)"
   ]
  },
  {
   "cell_type": "code",
   "execution_count": 142,
   "metadata": {},
   "outputs": [
    {
     "data": {
      "text/html": [
       "<div>\n",
       "<style scoped>\n",
       "    .dataframe tbody tr th:only-of-type {\n",
       "        vertical-align: middle;\n",
       "    }\n",
       "\n",
       "    .dataframe tbody tr th {\n",
       "        vertical-align: top;\n",
       "    }\n",
       "\n",
       "    .dataframe thead th {\n",
       "        text-align: right;\n",
       "    }\n",
       "</style>\n",
       "<table border=\"1\" class=\"dataframe\">\n",
       "  <thead>\n",
       "    <tr style=\"text-align: right;\">\n",
       "      <th></th>\n",
       "      <th>Country</th>\n",
       "      <th>FrxnPeaceIn10</th>\n",
       "      <th>ODA4H2OPcptaDol</th>\n",
       "      <th>RenewResm3PcptaYr</th>\n",
       "      <th>SustAccImprWatRur</th>\n",
       "      <th>SustAccImprWatUrb</th>\n",
       "      <th>SustAccImprSanRur</th>\n",
       "      <th>SustAccImprSanUrb</th>\n",
       "      <th>TotHlthExpPctofGDP</th>\n",
       "      <th>GenGovtPctofTotHlthExp</th>\n",
       "      <th>ExtResHlthPctTotExpHlth</th>\n",
       "      <th>PCptaGovtExpHlthAvgExcRt</th>\n",
       "      <th>GDPPCptaIntDol</th>\n",
       "      <th>AdultLtrcyRate</th>\n",
       "      <th>FemaleLtrcyRate</th>\n",
       "      <th>BurdenOfDisease</th>\n",
       "    </tr>\n",
       "  </thead>\n",
       "  <tbody>\n",
       "    <tr>\n",
       "      <th>0</th>\n",
       "      <td>Afghanistan</td>\n",
       "      <td>0.1</td>\n",
       "      <td>0.16</td>\n",
       "      <td>2986</td>\n",
       "      <td>0.10891</td>\n",
       "      <td>0.18812</td>\n",
       "      <td>0.049505</td>\n",
       "      <td>0.15842</td>\n",
       "      <td>0.065</td>\n",
       "      <td>0.395</td>\n",
       "      <td>0.4560</td>\n",
       "      <td>4</td>\n",
       "      <td>430</td>\n",
       "      <td>0.35644</td>\n",
       "      <td>0.20792</td>\n",
       "      <td>awful</td>\n",
       "    </tr>\n",
       "    <tr>\n",
       "      <th>1</th>\n",
       "      <td>Albania</td>\n",
       "      <td>1.0</td>\n",
       "      <td>5.58</td>\n",
       "      <td>13306</td>\n",
       "      <td>0.94059</td>\n",
       "      <td>0.98020</td>\n",
       "      <td>0.801980</td>\n",
       "      <td>0.98020</td>\n",
       "      <td>0.065</td>\n",
       "      <td>0.417</td>\n",
       "      <td>0.0340</td>\n",
       "      <td>49</td>\n",
       "      <td>6158</td>\n",
       "      <td>0.85644</td>\n",
       "      <td>0.78713</td>\n",
       "      <td>low</td>\n",
       "    </tr>\n",
       "    <tr>\n",
       "      <th>2</th>\n",
       "      <td>Algeria</td>\n",
       "      <td>0.0</td>\n",
       "      <td>0.33</td>\n",
       "      <td>473</td>\n",
       "      <td>0.79208</td>\n",
       "      <td>0.91089</td>\n",
       "      <td>0.811880</td>\n",
       "      <td>0.98020</td>\n",
       "      <td>0.041</td>\n",
       "      <td>0.808</td>\n",
       "      <td>0.0005</td>\n",
       "      <td>71</td>\n",
       "      <td>4860</td>\n",
       "      <td>0.69307</td>\n",
       "      <td>0.60396</td>\n",
       "      <td>high</td>\n",
       "    </tr>\n",
       "  </tbody>\n",
       "</table>\n",
       "</div>"
      ],
      "text/plain": [
       "       Country  FrxnPeaceIn10  ODA4H2OPcptaDol  RenewResm3PcptaYr  \\\n",
       "0  Afghanistan            0.1             0.16               2986   \n",
       "1      Albania            1.0             5.58              13306   \n",
       "2      Algeria            0.0             0.33                473   \n",
       "\n",
       "   SustAccImprWatRur  SustAccImprWatUrb  SustAccImprSanRur  SustAccImprSanUrb  \\\n",
       "0            0.10891            0.18812           0.049505            0.15842   \n",
       "1            0.94059            0.98020           0.801980            0.98020   \n",
       "2            0.79208            0.91089           0.811880            0.98020   \n",
       "\n",
       "   TotHlthExpPctofGDP  GenGovtPctofTotHlthExp  ExtResHlthPctTotExpHlth  \\\n",
       "0               0.065                   0.395                   0.4560   \n",
       "1               0.065                   0.417                   0.0340   \n",
       "2               0.041                   0.808                   0.0005   \n",
       "\n",
       "   PCptaGovtExpHlthAvgExcRt  GDPPCptaIntDol  AdultLtrcyRate  FemaleLtrcyRate  \\\n",
       "0                         4             430         0.35644          0.20792   \n",
       "1                        49            6158         0.85644          0.78713   \n",
       "2                        71            4860         0.69307          0.60396   \n",
       "\n",
       "  BurdenOfDisease  \n",
       "0           awful  \n",
       "1             low  \n",
       "2            high  "
      ]
     },
     "execution_count": 142,
     "metadata": {},
     "output_type": "execute_result"
    }
   ],
   "source": [
    "data=pd.read_csv(\"Burden of diarrheal illness by country.csv\")\n",
    "data.head(3)"
   ]
  },
  {
   "cell_type": "markdown",
   "metadata": {},
   "source": [
    "### Data dictionary\n",
    "\n",
    "NAME: Burden of diarrheal illness by country\n",
    "\n",
    "SIZE: 130 Countries, 16 Variables\n",
    "\n",
    "VARIABLE DESCRIPTIONS:\n",
    "\n",
    "Country: Country name\n",
    "\n",
    "FrxnPeaceIn10: Fraction of the past ten years in which a country has been at peace \n",
    "\n",
    "ODA4H2OPcptaDol: Per Capita Official Developmental Assistance for water projects\n",
    "\n",
    "RenewResm3PcptaYr: Renewable Water Resources in cubic meters per capita per year\n",
    "\n",
    "SustAccImprWatRur: Fraction of rural population with sustainable access to improved water\n",
    "\n",
    "SustAccImprWatUrb: Fraction of urban population with sustainable access to improved water\n",
    "\n",
    "SustAccImprSanRur: Fraction of rural population with sustainable access to improved sanitation\n",
    "\n",
    "SustAccImprSanUrb: Fraction of urban population with sustainable access to improved sanitation\n",
    "\n",
    "TotHlthExpPctofGDP: Fraction of a country's GDP devoted to health spending\n",
    "\n",
    "GenGovtPctofTotHlthExp: The fraction of total health expenditures for a country which is provided by the government\n",
    "\n",
    "ExtResHlthPctTotExpHlth: The fraction of total health expenditures for a country which is comes from sources external to the country\n",
    "\n",
    "PCptaGovtExpHlthAvgExcRt: Per Capita Government Health Expenditures at the average exchange rate\n",
    "\n",
    "GDPPCptaIntDol: Gross Domestic Product per capita in international dollars\n",
    "\n",
    "AdultLtrcyRate: Adult Literacy rate\n",
    "\n",
    "FemaleLtrcyRate: Female Literacy rate\n",
    "\n",
    "BurdenOfDisease: Our target variable for classification.  The burden of disease due to diarrheal illness, categorized into \"low\", \"medium\", \"high\", and \"awful\" quartiles.  For each country, we have estimates of the number of Disability-Adjusted Life Years lost per 1000 persons per year (DALYs) due to diarrheal illness.  Countries with \"low\" burden of disease have up to 2.75345 DALYs; countries with \"medium\" burden of disease have between 2.75345 and 8.2127 DALYs; countries with \"high\" burden of disease have between 8.2127 and 26.699 DALYs; and countries with \"awful\" burden of diease have more than 26.699 DALYs."
   ]
  },
  {
   "cell_type": "markdown",
   "metadata": {},
   "source": [
    "### Your goal is to train a decision tree classifier for the attribute “BurdenOfDisease\" using all other variables (except country name) as features with sklearn.tree.DecisionTreeClassifier. \n",
    "http://scikit-learn.org/stable/modules/generated/sklearn.tree.DecisionTreeClassifier.html"
   ]
  },
  {
   "cell_type": "markdown",
   "metadata": {},
   "source": [
    "a) Please choose a train/test split and choose a hyper-parameter governing model simplicity, for example, the maximum tree depth or maximum number of leaf nodes. Then, fit your decision tree classifier (using the training set) for different values of this parameter and for each such value, record the corresponding classification accuracy on the test set. (10 pts)"
   ]
  },
  {
   "cell_type": "code",
   "execution_count": 188,
   "metadata": {},
   "outputs": [],
   "source": [
    "from sklearn.model_selection import train_test_split\n",
    "from sklearn.tree import DecisionTreeClassifier\n",
    "from sklearn.preprocessing import LabelEncoder\n",
    "\n",
    "X = data.drop(columns=['Country','BurdenOfDisease'])\n",
    "y = data['BurdenOfDisease'].values\n",
    "\n",
    "le = LabelEncoder()\n",
    "le.fit(['low','medium','high','awful'])\n",
    "le.transform(y)\n",
    "# the labelencoder part comes from Wenjie Zheng(wz1405)\n",
    "\n",
    "X_train, X_test, y_train, y_test = train_test_split(X, y, test_size = 0.4, random_state = 99)\n",
    "\n",
    "score_train = []\n",
    "score_test = []\n",
    "for i in range(2,50):\n",
    "    dtc = DecisionTreeClassifier(criterion='entropy', max_depth=i)\n",
    "    dtc.fit(X_train, y_train)\n",
    "    score_train.append(dtc.score(X_train, y_train))\n",
    "    score_test.append(dtc.score(X_test, y_test))"
   ]
  },
  {
   "cell_type": "markdown",
   "metadata": {},
   "source": [
    "b) Make a plot of accuracy vs. simplicity for different values of the hyper-parameter chosen in part a). That is, the x-axis should be hyper-parameter value (e.g. tree depth) and the y-axis should be accuracy. (10 pts)"
   ]
  },
  {
   "cell_type": "code",
   "execution_count": 189,
   "metadata": {},
   "outputs": [
    {
     "data": {
      "text/plain": [
       "Text(0, 0.5, 'accuracy')"
      ]
     },
     "execution_count": 189,
     "metadata": {},
     "output_type": "execute_result"
    },
    {
     "data": {
      "image/png": "[encoded data removed]",
      "text/plain": [
       "<Figure size 432x288 with 1 Axes>"
      ]
     },
     "metadata": {
      "needs_background": "light"
     },
     "output_type": "display_data"
    }
   ],
   "source": [
    "import matplotlib.pylab as plt\n",
    "%matplotlib inline\n",
    "plt.plot(range(2,50),score_test)\n",
    "plt.xlabel('max depth')\n",
    "plt.ylabel('accuracy')\n",
    "\n",
    "# your code here"
   ]
  },
  {
   "cell_type": "markdown",
   "metadata": {},
   "source": [
    "c) Tune the hyper-parameter you choose in part a) by cross-validation using the training data. You can choose to use the GridSearchCV package from sklearn or write your own code to do cross-validation by spliting the training data into training and validation data. What is the out of sample accuracy after tuning the hyper-parameter? (10 pts)"
   ]
  },
  {
   "cell_type": "code",
   "execution_count": 217,
   "metadata": {},
   "outputs": [
    {
     "name": "stderr",
     "output_type": "stream",
     "text": [
      "/Users/hemingyi/anaconda2/envs/py36/lib/python3.7/site-packages/sklearn/model_selection/_split.py:2053: FutureWarning: You should specify a value for 'cv' instead of relying on the default value. The default value will change from 3 to 5 in version 0.22.\n",
      "  warnings.warn(CV_WARNING, FutureWarning)\n"
     ]
    },
    {
     "name": "stdout",
     "output_type": "stream",
     "text": [
      "{'max_depth': 2, 'min_samples_split': 2} 0.6263736263736264\n"
     ]
    },
    {
     "name": "stderr",
     "output_type": "stream",
     "text": [
      "/Users/hemingyi/anaconda2/envs/py36/lib/python3.7/site-packages/sklearn/model_selection/_search.py:841: DeprecationWarning: The default of the `iid` parameter will change from True to False in version 0.22 and will be removed in 0.24. This will change numeric results when test-set sizes are unequal.\n",
      "  DeprecationWarning)\n"
     ]
    }
   ],
   "source": [
    "from sklearn.model_selection import GridSearchCV\n",
    "\n",
    "X_train, X_test, y_train, y_test = train_test_split(X, y, test_size = 0.3, random_state = 99)\n",
    "param_grid ={'max_depth':range(1,3), 'min_samples_split':range(2,30)}\n",
    "\n",
    "dtc = DecisionTreeClassifier(criterion='entropy')\n",
    "gr=GridSearchCV(dtc,param_grid=param_grid,scoring='accuracy')\n",
    "rs=gr.fit(X_train,y_train)\n",
    "print(rs.best_params_,rs.best_score_)"
   ]
  },
  {
   "cell_type": "markdown",
   "metadata": {},
   "source": [
    "d) Visualize a simple decision tree (e.g., with max_depth = 2 or 3) learned from the data.  To do so, given your decision tree dt, you can use the code below, then copy and paste the resulting output into http://www.webgraphviz.com.  Alternatively, if you have graphviz installed on your machine, you can use that. (5 pts)"
   ]
  },
  {
   "cell_type": "code",
   "execution_count": 214,
   "metadata": {
    "scrolled": false
   },
   "outputs": [
    {
     "data": {
      "image/png": "[encoded data removed]",
      "text/plain": [
       "<IPython.core.display.Image object>"
      ]
     },
     "execution_count": 214,
     "metadata": {},
     "output_type": "execute_result"
    }
   ],
   "source": [
    "from sklearn import tree\n",
    "\n",
    "# your code here\n",
    "from IPython.display import Image  \n",
    "import pydotplus\n",
    "dtc=DecisionTreeClassifier(criterion='entropy', max_depth=2,min_samples_split=3)\n",
    "dtc.fit(X_test,y_test)\n",
    "thestring = tree.export_graphviz(dtc, out_file=None,  \n",
    "                         feature_names=X_train.columns.values, \n",
    "                         class_names=['low','medium','high','awful'],  \n",
    "                         filled=True, rounded=True,  \n",
    "                         special_characters=True,impurity=False)\n",
    "graph = pydotplus.graph_from_dot_data(thestring)  \n",
    "Image(graph.create_png())  \n"
   ]
  },
  {
   "cell_type": "markdown",
   "metadata": {},
   "source": [
    "### Question 4, Fit a random forest to the data from question 3 (20 pts)\n",
    "\n",
    "a) Please use the same test/train split from previous question and feel free to tune the hyper-parameters for Random Forest model using training data. The package from sklearn is here: http://scikit-learn.org/stable/modules/generated/sklearn.ensemble.RandomForestClassifier.html.\n",
    "Then please report your out of sample prediction result and compare this model's performance with 3c). (10 pts)"
   ]
  },
  {
   "cell_type": "code",
   "execution_count": 219,
   "metadata": {},
   "outputs": [
    {
     "name": "stderr",
     "output_type": "stream",
     "text": [
      "/Users/hemingyi/anaconda2/envs/py36/lib/python3.7/site-packages/sklearn/model_selection/_split.py:2053: FutureWarning: You should specify a value for 'cv' instead of relying on the default value. The default value will change from 3 to 5 in version 0.22.\n",
      "  warnings.warn(CV_WARNING, FutureWarning)\n"
     ]
    },
    {
     "name": "stdout",
     "output_type": "stream",
     "text": [
      "{'max_depth': 2, 'n_estimators': 7} 0.6593406593406593\n"
     ]
    },
    {
     "name": "stderr",
     "output_type": "stream",
     "text": [
      "/Users/hemingyi/anaconda2/envs/py36/lib/python3.7/site-packages/sklearn/model_selection/_search.py:841: DeprecationWarning: The default of the `iid` parameter will change from True to False in version 0.22 and will be removed in 0.24. This will change numeric results when test-set sizes are unequal.\n",
      "  DeprecationWarning)\n"
     ]
    }
   ],
   "source": [
    "from sklearn.ensemble import RandomForestClassifier\n",
    "from sklearn.model_selection import GridSearchCV\n",
    "\n",
    "rfc=RandomForestClassifier(criterion='entropy')\n",
    "param_grid ={'n_estimators':range(1,10), 'max_depth':range(1,3)}\n",
    "\n",
    "gr=GridSearchCV(rfc,param_grid=param_grid,scoring='accuracy')\n",
    "rs=gr.fit(X_train,y_train)\n",
    "print(rs.best_params_,rs.best_score_)\n",
    "# your code here"
   ]
  },
  {
   "cell_type": "markdown",
   "metadata": {
    "collapsed": true
   },
   "source": [
    "b) Write one paragraph comparing the results from those two models (Random Forest vs Decision Tree) in terms of both accuracy and interpretability. (10 pts)"
   ]
  },
  {
   "cell_type": "markdown",
   "metadata": {
    "collapsed": true
   },
   "source": [
    "The accuracy of best parameters in DecisionTree model is 0.63, and in RandomForest model is 0.65. The accuracy does no raise up significantly when we use 7 'trees' to predict the result. However, the interpretability of RandomForest model is worse than DecisionTree as the former model gives a result which is the combination of 7 results from the each estimators."
   ]
  }
 ],
 "metadata": {
  "anaconda-cloud": {},
  "celltoolbar": "Raw Cell Format",
  "kernelspec": {
   "display_name": "Python 3",
   "language": "python",
   "name": "python3"
  },
  "language_info": {
   "codemirror_mode": {
    "name": "ipython",
    "version": 3
   },
   "file_extension": ".py",
   "mimetype": "text/x-python",
   "name": "python",
   "nbconvert_exporter": "python",
   "pygments_lexer": "ipython3",
   "version": "3.7.1"
  }
 },
 "nbformat": 4,
 "nbformat_minor": 2
}
